{
  "nbformat": 4,
  "nbformat_minor": 0,
  "metadata": {
    "kernelspec": {
      "display_name": "Python 3",
      "language": "python",
      "name": "python3"
    },
    "language_info": {
      "codemirror_mode": {
        "name": "ipython",
        "version": 3
      },
      "file_extension": ".py",
      "mimetype": "text/x-python",
      "name": "python",
      "nbconvert_exporter": "python",
      "pygments_lexer": "ipython3",
      "version": "3.8.5"
    },
    "colab": {
      "name": "Arquivo Inicial.ipynb",
      "provenance": [],
      "include_colab_link": true
    }
  },
  "cells": [
    {
      "cell_type": "markdown",
      "metadata": {
        "id": "view-in-github",
        "colab_type": "text"
      },
      "source": [
        "<a href=\"https://colab.research.google.com/github/ncarrillo79/AluraGit/blob/master/Arquivo_Inicial.ipynb\" target=\"_parent\"><img src=\"https://colab.research.google.com/assets/colab-badge.svg\" alt=\"Open In Colab\"/></a>"
      ]
    },
    {
      "cell_type": "markdown",
      "metadata": {
        "id": "Neva4i7tsnSu"
      },
      "source": [
        "# pandas - \"A melhor biblioteca do Python para Dados\"\n",
        "\n",
        "- Quase sempre que você for trabalhar com dados no Python você vai usar o pandas, então é importante você saber trabalhar com essa biblioteca muito bem\n",
        "\n",
        "- Vamos aprender os principais comandos e os princípios básicos do pandas\n",
        "\n",
        "- Faça o download do Gabarito desse arquivo e use como uma cartilha de consulta (Link na descrição)"
      ]
    },
    {
      "cell_type": "markdown",
      "metadata": {
        "id": "hOkgThU7snSw"
      },
      "source": [
        "### Importando o pandas"
      ]
    },
    {
      "cell_type": "code",
      "metadata": {
        "id": "ox_8Dz-FsnSx"
      },
      "source": [
        ""
      ],
      "execution_count": null,
      "outputs": []
    },
    {
      "cell_type": "markdown",
      "metadata": {
        "id": "bmcI15y5snSx"
      },
      "source": [
        "### Criando um dataframe a partir de um dicionário"
      ]
    },
    {
      "cell_type": "code",
      "metadata": {
        "id": "3RxX7B3msnSx"
      },
      "source": [
        "# dataframe = pd.DataFrame()\n",
        "venda = {'data': ['15/02/2021', '16/02/2021'],\n",
        "         'valor': [500, 300],\n",
        "         'produto': ['feijao', 'arroz'],\n",
        "         'qtde': [50, 70],\n",
        "        }"
      ],
      "execution_count": null,
      "outputs": []
    },
    {
      "cell_type": "markdown",
      "metadata": {
        "id": "gPNcF6iCsnSy"
      },
      "source": [
        "### Visualização dos Dados\n",
        "    - print\n",
        "    - display"
      ]
    },
    {
      "cell_type": "code",
      "metadata": {
        "id": "nKQQ-TQ7snSy"
      },
      "source": [
        ""
      ],
      "execution_count": null,
      "outputs": []
    },
    {
      "cell_type": "markdown",
      "metadata": {
        "id": "1GdBspxbsnSz"
      },
      "source": [
        "### Importando arquivos e bases de dados"
      ]
    },
    {
      "cell_type": "code",
      "metadata": {
        "id": "rb39TuuNsnSz"
      },
      "source": [
        ""
      ],
      "execution_count": null,
      "outputs": []
    },
    {
      "cell_type": "markdown",
      "metadata": {
        "id": "mchj29gKsnSz"
      },
      "source": [
        "### Resumos de Visualização de Dados simples e úteis\n",
        "    - head\n",
        "    - shape\n",
        "    - describe"
      ]
    },
    {
      "cell_type": "code",
      "metadata": {
        "id": "c4d05MbjsnSz"
      },
      "source": [
        ""
      ],
      "execution_count": null,
      "outputs": []
    },
    {
      "cell_type": "markdown",
      "metadata": {
        "id": "uci3_yGEsnS0"
      },
      "source": [
        "### Pegar 1 coluna (e os pd.Series)"
      ]
    },
    {
      "cell_type": "code",
      "metadata": {
        "id": "Tjx6bQH1snS0"
      },
      "source": [
        ""
      ],
      "execution_count": null,
      "outputs": []
    },
    {
      "cell_type": "markdown",
      "metadata": {
        "id": "gNCGmHaAsnS0"
      },
      "source": [
        "### .loc, um método muito importante\n",
        "    - Pegar 1 linha\n",
        "    - Pegar linhas de acordo com alguma condição\n",
        "    - Pegar linhas e colunas específicas\n",
        "    - Pegar 1 valor específico"
      ]
    },
    {
      "cell_type": "code",
      "metadata": {
        "id": "0tvVtvdOsnS0"
      },
      "source": [
        ""
      ],
      "execution_count": null,
      "outputs": []
    },
    {
      "cell_type": "markdown",
      "metadata": {
        "id": "h25W3m5TsnS1"
      },
      "source": [
        "### Adicionar 1 coluna"
      ]
    },
    {
      "cell_type": "code",
      "metadata": {
        "id": "bKZ4293QsnS1"
      },
      "source": [
        ""
      ],
      "execution_count": null,
      "outputs": []
    },
    {
      "cell_type": "markdown",
      "metadata": {
        "id": "LGwGyRndsnS1"
      },
      "source": [
        "### Adicionar 1 linha\n",
        "    - Linhas de um complemento da base de dados"
      ]
    },
    {
      "cell_type": "code",
      "metadata": {
        "id": "mHZqN9cXsnS1"
      },
      "source": [
        ""
      ],
      "execution_count": null,
      "outputs": []
    },
    {
      "cell_type": "markdown",
      "metadata": {
        "id": "GuXWLfdosnS1"
      },
      "source": [
        "### Excluir linhas e colunas"
      ]
    },
    {
      "cell_type": "code",
      "metadata": {
        "id": "qA4_brivsnS2"
      },
      "source": [
        ""
      ],
      "execution_count": null,
      "outputs": []
    },
    {
      "cell_type": "markdown",
      "metadata": {
        "id": "C73aLw9FsnS2"
      },
      "source": [
        "### Valores Vazios\n",
        "    - Deletar linhas/colunas vazias\n",
        "    - Deletar linhas que possuem valores vazios\n",
        "    - Preencher valores vazios (média e último valor)"
      ]
    },
    {
      "cell_type": "code",
      "metadata": {
        "id": "E_4OP_EvsnS2"
      },
      "source": [
        ""
      ],
      "execution_count": null,
      "outputs": []
    },
    {
      "cell_type": "markdown",
      "metadata": {
        "id": "kAdYNj40snS2"
      },
      "source": [
        "### Calcular Indicadores\n",
        "    - Groupby\n",
        "    - Value Counts"
      ]
    },
    {
      "cell_type": "code",
      "metadata": {
        "id": "2yRSKXhJsnS2"
      },
      "source": [
        ""
      ],
      "execution_count": null,
      "outputs": []
    },
    {
      "cell_type": "markdown",
      "metadata": {
        "id": "pf1_MB5KsnS3"
      },
      "source": [
        "### Mesclar 2 dataframes (Procurar informações de um dataframe em outro)"
      ]
    },
    {
      "cell_type": "code",
      "metadata": {
        "id": "s-2-ZFF-snS3"
      },
      "source": [
        ""
      ],
      "execution_count": null,
      "outputs": []
    },
    {
      "cell_type": "markdown",
      "metadata": {
        "id": "DnbRgXS_snS3"
      },
      "source": [
        "### Como continuar aprendendo?\n",
        "\n",
        "### Minicurso Gratuito de Análise de Dados com Python na Descrição"
      ]
    }
  ]
}